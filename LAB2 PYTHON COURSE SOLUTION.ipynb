{
 "cells": [
  {
   "cell_type": "code",
   "execution_count": 1,
   "id": "0ca07f00",
   "metadata": {},
   "outputs": [],
   "source": [
    "import numpy as np\n"
   ]
  },
  {
   "cell_type": "code",
   "execution_count": 19,
   "id": "a4c0e792",
   "metadata": {
    "scrolled": true
   },
   "outputs": [
    {
     "name": "stdout",
     "output_type": "stream",
     "text": [
      "Number of words in the file ObamaFirstInagural.tex is 2423\n",
      "Number of characters in the file ObamaFirstInagural.tex is 13548\n",
      "Number of lines in the file ObamaFirstInagural.tex is 183\n"
     ]
    }
   ],
   "source": [
    "\n",
    "def COUNTFUNCTIONONFILE(input_filename):\n",
    "    \n",
    "    with open(input_filename,'r', encoding='utf-8') as file:\n",
    "            content = file.read()\n",
    "            words = content.split()\n",
    "            lines = content.splitlines()\n",
    "            characters = len(content)\n",
    "            return len(words), characters, len(lines)\n",
    "\n",
    "    \n",
    "file = \"ObamaFirstInagural.tex\"\n",
    "words,characters, lines =COUNTFUNCTIONONFILE(\"ObamaFirstInagural.tex\")\n",
    "\n",
    "\n",
    "print(\"Number of words in the file\", file,\"is\", words)\n",
    "print(\"Number of characters in the file\", file,\"is\", characters)\n",
    "print(\"Number of lines in the file\", file,\"is\", lines)"
   ]
  },
  {
   "cell_type": "code",
   "execution_count": null,
   "id": "f222eeb6",
   "metadata": {},
   "outputs": [],
   "source": []
  }
 ],
 "metadata": {
  "kernelspec": {
   "display_name": "Python 3 (ipykernel)",
   "language": "python",
   "name": "python3"
  },
  "language_info": {
   "codemirror_mode": {
    "name": "ipython",
    "version": 3
   },
   "file_extension": ".py",
   "mimetype": "text/x-python",
   "name": "python",
   "nbconvert_exporter": "python",
   "pygments_lexer": "ipython3",
   "version": "3.10.9"
  }
 },
 "nbformat": 4,
 "nbformat_minor": 5
}
